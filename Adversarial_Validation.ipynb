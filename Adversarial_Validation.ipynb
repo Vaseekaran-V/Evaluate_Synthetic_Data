{
 "cells": [
  {
   "cell_type": "markdown",
   "id": "aa79f729",
   "metadata": {},
   "source": [
    "### Importing necessary libraries"
   ]
  },
  {
   "cell_type": "code",
   "execution_count": 1,
   "id": "27c741c4",
   "metadata": {},
   "outputs": [],
   "source": [
    "import os\n",
    "import pandas as pd\n",
    "import numpy as np\n",
    "\n",
    "from sklearn.model_selection import train_test_split\n",
    "from sklearn.pipeline import Pipeline\n",
    "from sklearn import preprocessing\n",
    "from sklearn.compose import ColumnTransformer\n",
    "from sklearn.preprocessing import RobustScaler\n",
    "from sklearn import metrics\n",
    "from imblearn.over_sampling import SMOTE\n",
    "\n",
    "from lightgbm import LGBMClassifier"
   ]
  },
  {
   "cell_type": "markdown",
   "id": "3601a9d5",
   "metadata": {},
   "source": [
    "### Loading the data"
   ]
  },
  {
   "cell_type": "code",
   "execution_count": 2,
   "id": "437f5de6",
   "metadata": {},
   "outputs": [],
   "source": [
    "df = pd.read_csv(r'data/neo_v2.csv')"
   ]
  },
  {
   "cell_type": "markdown",
   "id": "7fb17598",
   "metadata": {},
   "source": [
    "### Relabeling the hazardous class to int (to replace boolean values with integers)"
   ]
  },
  {
   "cell_type": "code",
   "execution_count": 3,
   "id": "f8dd4acd",
   "metadata": {},
   "outputs": [],
   "source": [
    "df['hazardous'] = df['hazardous'].astype('int')"
   ]
  },
  {
   "cell_type": "markdown",
   "id": "3771102a",
   "metadata": {},
   "source": [
    "### Dropping unnecessary columns"
   ]
  },
  {
   "cell_type": "code",
   "execution_count": 4,
   "id": "52261aee",
   "metadata": {},
   "outputs": [],
   "source": [
    "df.drop(['id', 'name', 'orbiting_body', 'sentry_object'], axis = 1, inplace = True)"
   ]
  },
  {
   "cell_type": "code",
   "execution_count": 5,
   "id": "c0972f8b",
   "metadata": {},
   "outputs": [
    {
     "data": {
      "text/html": [
       "<div>\n",
       "<style scoped>\n",
       "    .dataframe tbody tr th:only-of-type {\n",
       "        vertical-align: middle;\n",
       "    }\n",
       "\n",
       "    .dataframe tbody tr th {\n",
       "        vertical-align: top;\n",
       "    }\n",
       "\n",
       "    .dataframe thead th {\n",
       "        text-align: right;\n",
       "    }\n",
       "</style>\n",
       "<table border=\"1\" class=\"dataframe\">\n",
       "  <thead>\n",
       "    <tr style=\"text-align: right;\">\n",
       "      <th></th>\n",
       "      <th>est_diameter_min</th>\n",
       "      <th>est_diameter_max</th>\n",
       "      <th>relative_velocity</th>\n",
       "      <th>miss_distance</th>\n",
       "      <th>absolute_magnitude</th>\n",
       "      <th>hazardous</th>\n",
       "    </tr>\n",
       "  </thead>\n",
       "  <tbody>\n",
       "    <tr>\n",
       "      <th>0</th>\n",
       "      <td>1.198271</td>\n",
       "      <td>2.679415</td>\n",
       "      <td>13569.249224</td>\n",
       "      <td>5.483974e+07</td>\n",
       "      <td>16.73</td>\n",
       "      <td>0</td>\n",
       "    </tr>\n",
       "    <tr>\n",
       "      <th>1</th>\n",
       "      <td>0.265800</td>\n",
       "      <td>0.594347</td>\n",
       "      <td>73588.726663</td>\n",
       "      <td>6.143813e+07</td>\n",
       "      <td>20.00</td>\n",
       "      <td>1</td>\n",
       "    </tr>\n",
       "    <tr>\n",
       "      <th>2</th>\n",
       "      <td>0.722030</td>\n",
       "      <td>1.614507</td>\n",
       "      <td>114258.692129</td>\n",
       "      <td>4.979872e+07</td>\n",
       "      <td>17.83</td>\n",
       "      <td>0</td>\n",
       "    </tr>\n",
       "    <tr>\n",
       "      <th>3</th>\n",
       "      <td>0.096506</td>\n",
       "      <td>0.215794</td>\n",
       "      <td>24764.303138</td>\n",
       "      <td>2.543497e+07</td>\n",
       "      <td>22.20</td>\n",
       "      <td>0</td>\n",
       "    </tr>\n",
       "    <tr>\n",
       "      <th>4</th>\n",
       "      <td>0.255009</td>\n",
       "      <td>0.570217</td>\n",
       "      <td>42737.733765</td>\n",
       "      <td>4.627557e+07</td>\n",
       "      <td>20.09</td>\n",
       "      <td>1</td>\n",
       "    </tr>\n",
       "    <tr>\n",
       "      <th>...</th>\n",
       "      <td>...</td>\n",
       "      <td>...</td>\n",
       "      <td>...</td>\n",
       "      <td>...</td>\n",
       "      <td>...</td>\n",
       "      <td>...</td>\n",
       "    </tr>\n",
       "    <tr>\n",
       "      <th>90831</th>\n",
       "      <td>0.026580</td>\n",
       "      <td>0.059435</td>\n",
       "      <td>52078.886692</td>\n",
       "      <td>1.230039e+07</td>\n",
       "      <td>25.00</td>\n",
       "      <td>0</td>\n",
       "    </tr>\n",
       "    <tr>\n",
       "      <th>90832</th>\n",
       "      <td>0.016771</td>\n",
       "      <td>0.037501</td>\n",
       "      <td>46114.605073</td>\n",
       "      <td>5.432121e+07</td>\n",
       "      <td>26.00</td>\n",
       "      <td>0</td>\n",
       "    </tr>\n",
       "    <tr>\n",
       "      <th>90833</th>\n",
       "      <td>0.031956</td>\n",
       "      <td>0.071456</td>\n",
       "      <td>7566.807732</td>\n",
       "      <td>2.840077e+07</td>\n",
       "      <td>24.60</td>\n",
       "      <td>0</td>\n",
       "    </tr>\n",
       "    <tr>\n",
       "      <th>90834</th>\n",
       "      <td>0.007321</td>\n",
       "      <td>0.016370</td>\n",
       "      <td>69199.154484</td>\n",
       "      <td>6.869206e+07</td>\n",
       "      <td>27.80</td>\n",
       "      <td>0</td>\n",
       "    </tr>\n",
       "    <tr>\n",
       "      <th>90835</th>\n",
       "      <td>0.039862</td>\n",
       "      <td>0.089133</td>\n",
       "      <td>27024.455553</td>\n",
       "      <td>5.977213e+07</td>\n",
       "      <td>24.12</td>\n",
       "      <td>0</td>\n",
       "    </tr>\n",
       "  </tbody>\n",
       "</table>\n",
       "<p>90836 rows × 6 columns</p>\n",
       "</div>"
      ],
      "text/plain": [
       "       est_diameter_min  est_diameter_max  relative_velocity  miss_distance  \\\n",
       "0              1.198271          2.679415       13569.249224   5.483974e+07   \n",
       "1              0.265800          0.594347       73588.726663   6.143813e+07   \n",
       "2              0.722030          1.614507      114258.692129   4.979872e+07   \n",
       "3              0.096506          0.215794       24764.303138   2.543497e+07   \n",
       "4              0.255009          0.570217       42737.733765   4.627557e+07   \n",
       "...                 ...               ...                ...            ...   \n",
       "90831          0.026580          0.059435       52078.886692   1.230039e+07   \n",
       "90832          0.016771          0.037501       46114.605073   5.432121e+07   \n",
       "90833          0.031956          0.071456        7566.807732   2.840077e+07   \n",
       "90834          0.007321          0.016370       69199.154484   6.869206e+07   \n",
       "90835          0.039862          0.089133       27024.455553   5.977213e+07   \n",
       "\n",
       "       absolute_magnitude  hazardous  \n",
       "0                   16.73          0  \n",
       "1                   20.00          1  \n",
       "2                   17.83          0  \n",
       "3                   22.20          0  \n",
       "4                   20.09          1  \n",
       "...                   ...        ...  \n",
       "90831               25.00          0  \n",
       "90832               26.00          0  \n",
       "90833               24.60          0  \n",
       "90834               27.80          0  \n",
       "90835               24.12          0  \n",
       "\n",
       "[90836 rows x 6 columns]"
      ]
     },
     "execution_count": 5,
     "metadata": {},
     "output_type": "execute_result"
    }
   ],
   "source": [
    "df"
   ]
  },
  {
   "cell_type": "markdown",
   "id": "88b86322",
   "metadata": {},
   "source": [
    "### Preprocessing the data"
   ]
  },
  {
   "cell_type": "code",
   "execution_count": 6,
   "id": "75207c51",
   "metadata": {},
   "outputs": [],
   "source": [
    "df_cols = list(df.columns[df.columns != 'hazardous'])"
   ]
  },
  {
   "cell_type": "code",
   "execution_count": 7,
   "id": "87c55017",
   "metadata": {},
   "outputs": [],
   "source": [
    "quan_pipeline = Pipeline([\n",
    "    ('quan_scaler', RobustScaler())\n",
    "])"
   ]
  },
  {
   "cell_type": "code",
   "execution_count": 8,
   "id": "290a0e66",
   "metadata": {},
   "outputs": [],
   "source": [
    "processed_data = df.copy()\n",
    "processed_data[df_cols] = quan_pipeline.fit_transform(df[df_cols])\n",
    "processed_data['hazardous'] = df['hazardous']"
   ]
  },
  {
   "cell_type": "code",
   "execution_count": 9,
   "id": "105446e5",
   "metadata": {},
   "outputs": [
    {
     "data": {
      "text/html": [
       "<div>\n",
       "<style scoped>\n",
       "    .dataframe tbody tr th:only-of-type {\n",
       "        vertical-align: middle;\n",
       "    }\n",
       "\n",
       "    .dataframe tbody tr th {\n",
       "        vertical-align: top;\n",
       "    }\n",
       "\n",
       "    .dataframe thead th {\n",
       "        text-align: right;\n",
       "    }\n",
       "</style>\n",
       "<table border=\"1\" class=\"dataframe\">\n",
       "  <thead>\n",
       "    <tr style=\"text-align: right;\">\n",
       "      <th></th>\n",
       "      <th>est_diameter_min</th>\n",
       "      <th>est_diameter_max</th>\n",
       "      <th>relative_velocity</th>\n",
       "      <th>miss_distance</th>\n",
       "      <th>absolute_magnitude</th>\n",
       "      <th>hazardous</th>\n",
       "    </tr>\n",
       "  </thead>\n",
       "  <tbody>\n",
       "    <tr>\n",
       "      <th>0</th>\n",
       "      <td>9.262476</td>\n",
       "      <td>9.262476</td>\n",
       "      <td>-0.892617</td>\n",
       "      <td>0.431976</td>\n",
       "      <td>-1.598624</td>\n",
       "      <td>0</td>\n",
       "    </tr>\n",
       "    <tr>\n",
       "      <th>1</th>\n",
       "      <td>1.751419</td>\n",
       "      <td>1.751419</td>\n",
       "      <td>0.856988</td>\n",
       "      <td>0.599711</td>\n",
       "      <td>-0.848624</td>\n",
       "      <td>1</td>\n",
       "    </tr>\n",
       "    <tr>\n",
       "      <th>2</th>\n",
       "      <td>5.426350</td>\n",
       "      <td>5.426350</td>\n",
       "      <td>2.042543</td>\n",
       "      <td>0.303831</td>\n",
       "      <td>-1.346330</td>\n",
       "      <td>0</td>\n",
       "    </tr>\n",
       "    <tr>\n",
       "      <th>3</th>\n",
       "      <td>0.387756</td>\n",
       "      <td>0.387756</td>\n",
       "      <td>-0.566275</td>\n",
       "      <td>-0.315510</td>\n",
       "      <td>-0.344037</td>\n",
       "      <td>0</td>\n",
       "    </tr>\n",
       "    <tr>\n",
       "      <th>4</th>\n",
       "      <td>1.664495</td>\n",
       "      <td>1.664495</td>\n",
       "      <td>-0.042338</td>\n",
       "      <td>0.214270</td>\n",
       "      <td>-0.827982</td>\n",
       "      <td>1</td>\n",
       "    </tr>\n",
       "    <tr>\n",
       "      <th>...</th>\n",
       "      <td>...</td>\n",
       "      <td>...</td>\n",
       "      <td>...</td>\n",
       "      <td>...</td>\n",
       "      <td>...</td>\n",
       "      <td>...</td>\n",
       "    </tr>\n",
       "    <tr>\n",
       "      <th>90831</th>\n",
       "      <td>-0.175500</td>\n",
       "      <td>-0.175500</td>\n",
       "      <td>0.229963</td>\n",
       "      <td>-0.649399</td>\n",
       "      <td>0.298165</td>\n",
       "      <td>0</td>\n",
       "    </tr>\n",
       "    <tr>\n",
       "      <th>90832</th>\n",
       "      <td>-0.254512</td>\n",
       "      <td>-0.254512</td>\n",
       "      <td>0.056100</td>\n",
       "      <td>0.418795</td>\n",
       "      <td>0.527523</td>\n",
       "      <td>0</td>\n",
       "    </tr>\n",
       "    <tr>\n",
       "      <th>90833</th>\n",
       "      <td>-0.132194</td>\n",
       "      <td>-0.132194</td>\n",
       "      <td>-1.067592</td>\n",
       "      <td>-0.240118</td>\n",
       "      <td>0.206422</td>\n",
       "      <td>0</td>\n",
       "    </tr>\n",
       "    <tr>\n",
       "      <th>90834</th>\n",
       "      <td>-0.330633</td>\n",
       "      <td>-0.330633</td>\n",
       "      <td>0.729029</td>\n",
       "      <td>0.784111</td>\n",
       "      <td>0.940367</td>\n",
       "      <td>0</td>\n",
       "    </tr>\n",
       "    <tr>\n",
       "      <th>90835</th>\n",
       "      <td>-0.068516</td>\n",
       "      <td>-0.068516</td>\n",
       "      <td>-0.500390</td>\n",
       "      <td>0.557361</td>\n",
       "      <td>0.096330</td>\n",
       "      <td>0</td>\n",
       "    </tr>\n",
       "  </tbody>\n",
       "</table>\n",
       "<p>90836 rows × 6 columns</p>\n",
       "</div>"
      ],
      "text/plain": [
       "       est_diameter_min  est_diameter_max  relative_velocity  miss_distance  \\\n",
       "0              9.262476          9.262476          -0.892617       0.431976   \n",
       "1              1.751419          1.751419           0.856988       0.599711   \n",
       "2              5.426350          5.426350           2.042543       0.303831   \n",
       "3              0.387756          0.387756          -0.566275      -0.315510   \n",
       "4              1.664495          1.664495          -0.042338       0.214270   \n",
       "...                 ...               ...                ...            ...   \n",
       "90831         -0.175500         -0.175500           0.229963      -0.649399   \n",
       "90832         -0.254512         -0.254512           0.056100       0.418795   \n",
       "90833         -0.132194         -0.132194          -1.067592      -0.240118   \n",
       "90834         -0.330633         -0.330633           0.729029       0.784111   \n",
       "90835         -0.068516         -0.068516          -0.500390       0.557361   \n",
       "\n",
       "       absolute_magnitude  hazardous  \n",
       "0               -1.598624          0  \n",
       "1               -0.848624          1  \n",
       "2               -1.346330          0  \n",
       "3               -0.344037          0  \n",
       "4               -0.827982          1  \n",
       "...                   ...        ...  \n",
       "90831            0.298165          0  \n",
       "90832            0.527523          0  \n",
       "90833            0.206422          0  \n",
       "90834            0.940367          0  \n",
       "90835            0.096330          0  \n",
       "\n",
       "[90836 rows x 6 columns]"
      ]
     },
     "execution_count": 9,
     "metadata": {},
     "output_type": "execute_result"
    }
   ],
   "source": [
    "processed_data"
   ]
  },
  {
   "cell_type": "markdown",
   "id": "a6535481",
   "metadata": {},
   "source": [
    "### Generating synthetic data"
   ]
  },
  {
   "cell_type": "code",
   "execution_count": 10,
   "id": "906a78ed",
   "metadata": {},
   "outputs": [],
   "source": [
    "train_data = processed_data.copy()"
   ]
  },
  {
   "cell_type": "code",
   "execution_count": 11,
   "id": "b6933c4e",
   "metadata": {},
   "outputs": [],
   "source": [
    "X = train_data.drop(['hazardous'], axis = 1)\n",
    "y = train_data['hazardous']"
   ]
  },
  {
   "cell_type": "code",
   "execution_count": 12,
   "id": "19a21d7f",
   "metadata": {},
   "outputs": [],
   "source": [
    "sampling_strategy = {1: 8840*2}"
   ]
  },
  {
   "cell_type": "code",
   "execution_count": 13,
   "id": "9edee09f",
   "metadata": {},
   "outputs": [],
   "source": [
    "over_sampler = SMOTE(random_state=0, sampling_strategy=sampling_strategy)"
   ]
  },
  {
   "cell_type": "code",
   "execution_count": 14,
   "id": "abadd2b6",
   "metadata": {},
   "outputs": [],
   "source": [
    "X_os, y_os = over_sampler.fit_resample(X, y)"
   ]
  },
  {
   "cell_type": "code",
   "execution_count": 15,
   "id": "16076aba",
   "metadata": {},
   "outputs": [],
   "source": [
    "resampled_data = X_os.copy()\n",
    "resampled_data['hazardous'] = y_os.values"
   ]
  },
  {
   "cell_type": "code",
   "execution_count": 16,
   "id": "ea31a3d5",
   "metadata": {},
   "outputs": [
    {
     "data": {
      "text/plain": [
       "0    81996\n",
       "1    17680\n",
       "Name: hazardous, dtype: int64"
      ]
     },
     "execution_count": 16,
     "metadata": {},
     "output_type": "execute_result"
    }
   ],
   "source": [
    "resampled_data.hazardous.value_counts()"
   ]
  },
  {
   "cell_type": "markdown",
   "id": "766394fe",
   "metadata": {},
   "source": [
    "#### Keeping only the hazardous class of the oversampled data"
   ]
  },
  {
   "cell_type": "code",
   "execution_count": 17,
   "id": "3e6f6644",
   "metadata": {},
   "outputs": [],
   "source": [
    "resampled_minor_data = resampled_data.loc[ resampled_data['hazardous']==1 ].copy()"
   ]
  },
  {
   "cell_type": "code",
   "execution_count": 18,
   "id": "c4ed5f1e",
   "metadata": {},
   "outputs": [],
   "source": [
    "resampled_minor_data.drop(['hazardous'], axis = 1, inplace = True)"
   ]
  },
  {
   "cell_type": "code",
   "execution_count": 19,
   "id": "8c100f4b",
   "metadata": {},
   "outputs": [],
   "source": [
    "train_data_minor = train_data.loc[ train_data['hazardous']==1 ].copy()"
   ]
  },
  {
   "cell_type": "code",
   "execution_count": 20,
   "id": "c2395b42",
   "metadata": {},
   "outputs": [
    {
     "name": "stdout",
     "output_type": "stream",
     "text": [
      "<class 'pandas.core.frame.DataFrame'>\n",
      "Int64Index: 17680 entries, 1 to 99675\n",
      "Data columns (total 5 columns):\n",
      " #   Column              Non-Null Count  Dtype  \n",
      "---  ------              --------------  -----  \n",
      " 0   est_diameter_min    17680 non-null  float64\n",
      " 1   est_diameter_max    17680 non-null  float64\n",
      " 2   relative_velocity   17680 non-null  float64\n",
      " 3   miss_distance       17680 non-null  float64\n",
      " 4   absolute_magnitude  17680 non-null  float64\n",
      "dtypes: float64(5)\n",
      "memory usage: 828.8 KB\n"
     ]
    }
   ],
   "source": [
    "resampled_minor_data.info()"
   ]
  },
  {
   "cell_type": "code",
   "execution_count": 21,
   "id": "eab5e5a9",
   "metadata": {},
   "outputs": [],
   "source": [
    "train_data_minor.drop(['hazardous'], axis = 1, inplace = True)"
   ]
  },
  {
   "cell_type": "markdown",
   "id": "38c9b578",
   "metadata": {},
   "source": [
    "### Keeping only the synthetic data"
   ]
  },
  {
   "cell_type": "code",
   "execution_count": 22,
   "id": "ee88a1bd",
   "metadata": {},
   "outputs": [],
   "source": [
    "minority_synth_data = pd.concat([resampled_minor_data,train_data_minor]).drop_duplicates(keep=False)"
   ]
  },
  {
   "cell_type": "code",
   "execution_count": 23,
   "id": "7eb38069",
   "metadata": {},
   "outputs": [
    {
     "name": "stdout",
     "output_type": "stream",
     "text": [
      "<class 'pandas.core.frame.DataFrame'>\n",
      "Int64Index: 8839 entries, 90836 to 99675\n",
      "Data columns (total 5 columns):\n",
      " #   Column              Non-Null Count  Dtype  \n",
      "---  ------              --------------  -----  \n",
      " 0   est_diameter_min    8839 non-null   float64\n",
      " 1   est_diameter_max    8839 non-null   float64\n",
      " 2   relative_velocity   8839 non-null   float64\n",
      " 3   miss_distance       8839 non-null   float64\n",
      " 4   absolute_magnitude  8839 non-null   float64\n",
      "dtypes: float64(5)\n",
      "memory usage: 414.3 KB\n"
     ]
    }
   ],
   "source": [
    "minority_synth_data.info()"
   ]
  },
  {
   "cell_type": "code",
   "execution_count": 24,
   "id": "38570fd5",
   "metadata": {},
   "outputs": [],
   "source": [
    "min_synth_cols = list(minority_synth_data.columns)"
   ]
  },
  {
   "cell_type": "markdown",
   "id": "4ad7901f",
   "metadata": {},
   "source": [
    "#### Performing inverse transform of the pre-processing"
   ]
  },
  {
   "cell_type": "code",
   "execution_count": 25,
   "id": "5b1d65ad",
   "metadata": {},
   "outputs": [],
   "source": [
    "minority_synth_data[min_synth_cols] = quan_pipeline.inverse_transform(minority_synth_data)"
   ]
  },
  {
   "cell_type": "code",
   "execution_count": 26,
   "id": "bc52aa6f",
   "metadata": {},
   "outputs": [
    {
     "data": {
      "text/html": [
       "<div>\n",
       "<style scoped>\n",
       "    .dataframe tbody tr th:only-of-type {\n",
       "        vertical-align: middle;\n",
       "    }\n",
       "\n",
       "    .dataframe tbody tr th {\n",
       "        vertical-align: top;\n",
       "    }\n",
       "\n",
       "    .dataframe thead th {\n",
       "        text-align: right;\n",
       "    }\n",
       "</style>\n",
       "<table border=\"1\" class=\"dataframe\">\n",
       "  <thead>\n",
       "    <tr style=\"text-align: right;\">\n",
       "      <th></th>\n",
       "      <th>est_diameter_min</th>\n",
       "      <th>est_diameter_max</th>\n",
       "      <th>relative_velocity</th>\n",
       "      <th>miss_distance</th>\n",
       "      <th>absolute_magnitude</th>\n",
       "    </tr>\n",
       "  </thead>\n",
       "  <tbody>\n",
       "    <tr>\n",
       "      <th>90836</th>\n",
       "      <td>0.152952</td>\n",
       "      <td>0.342011</td>\n",
       "      <td>57969.999476</td>\n",
       "      <td>5.741332e+07</td>\n",
       "      <td>21.200000</td>\n",
       "    </tr>\n",
       "    <tr>\n",
       "      <th>90837</th>\n",
       "      <td>0.523328</td>\n",
       "      <td>1.170198</td>\n",
       "      <td>43538.363931</td>\n",
       "      <td>5.197663e+06</td>\n",
       "      <td>18.528906</td>\n",
       "    </tr>\n",
       "    <tr>\n",
       "      <th>90838</th>\n",
       "      <td>0.457272</td>\n",
       "      <td>1.022490</td>\n",
       "      <td>60885.607516</td>\n",
       "      <td>3.190762e+07</td>\n",
       "      <td>18.822249</td>\n",
       "    </tr>\n",
       "    <tr>\n",
       "      <th>90839</th>\n",
       "      <td>0.106652</td>\n",
       "      <td>0.238482</td>\n",
       "      <td>36990.220336</td>\n",
       "      <td>2.249528e+07</td>\n",
       "      <td>21.983250</td>\n",
       "    </tr>\n",
       "    <tr>\n",
       "      <th>90840</th>\n",
       "      <td>0.152952</td>\n",
       "      <td>0.342011</td>\n",
       "      <td>57994.093289</td>\n",
       "      <td>5.638625e+07</td>\n",
       "      <td>21.200000</td>\n",
       "    </tr>\n",
       "    <tr>\n",
       "      <th>...</th>\n",
       "      <td>...</td>\n",
       "      <td>...</td>\n",
       "      <td>...</td>\n",
       "      <td>...</td>\n",
       "      <td>...</td>\n",
       "    </tr>\n",
       "    <tr>\n",
       "      <th>99671</th>\n",
       "      <td>0.256285</td>\n",
       "      <td>0.573071</td>\n",
       "      <td>53002.367806</td>\n",
       "      <td>7.578642e+06</td>\n",
       "      <td>20.079363</td>\n",
       "    </tr>\n",
       "    <tr>\n",
       "      <th>99672</th>\n",
       "      <td>0.555335</td>\n",
       "      <td>1.241767</td>\n",
       "      <td>93209.710181</td>\n",
       "      <td>6.881741e+06</td>\n",
       "      <td>18.400000</td>\n",
       "    </tr>\n",
       "    <tr>\n",
       "      <th>99673</th>\n",
       "      <td>0.280189</td>\n",
       "      <td>0.626522</td>\n",
       "      <td>36580.476271</td>\n",
       "      <td>2.123283e+07</td>\n",
       "      <td>19.885535</td>\n",
       "    </tr>\n",
       "    <tr>\n",
       "      <th>99674</th>\n",
       "      <td>0.145109</td>\n",
       "      <td>0.324474</td>\n",
       "      <td>65729.739149</td>\n",
       "      <td>5.935945e+07</td>\n",
       "      <td>21.314322</td>\n",
       "    </tr>\n",
       "    <tr>\n",
       "      <th>99675</th>\n",
       "      <td>0.302722</td>\n",
       "      <td>0.676908</td>\n",
       "      <td>82149.791819</td>\n",
       "      <td>4.148706e+07</td>\n",
       "      <td>19.717643</td>\n",
       "    </tr>\n",
       "  </tbody>\n",
       "</table>\n",
       "<p>8839 rows × 5 columns</p>\n",
       "</div>"
      ],
      "text/plain": [
       "       est_diameter_min  est_diameter_max  relative_velocity  miss_distance  \\\n",
       "90836          0.152952          0.342011       57969.999476   5.741332e+07   \n",
       "90837          0.523328          1.170198       43538.363931   5.197663e+06   \n",
       "90838          0.457272          1.022490       60885.607516   3.190762e+07   \n",
       "90839          0.106652          0.238482       36990.220336   2.249528e+07   \n",
       "90840          0.152952          0.342011       57994.093289   5.638625e+07   \n",
       "...                 ...               ...                ...            ...   \n",
       "99671          0.256285          0.573071       53002.367806   7.578642e+06   \n",
       "99672          0.555335          1.241767       93209.710181   6.881741e+06   \n",
       "99673          0.280189          0.626522       36580.476271   2.123283e+07   \n",
       "99674          0.145109          0.324474       65729.739149   5.935945e+07   \n",
       "99675          0.302722          0.676908       82149.791819   4.148706e+07   \n",
       "\n",
       "       absolute_magnitude  \n",
       "90836           21.200000  \n",
       "90837           18.528906  \n",
       "90838           18.822249  \n",
       "90839           21.983250  \n",
       "90840           21.200000  \n",
       "...                   ...  \n",
       "99671           20.079363  \n",
       "99672           18.400000  \n",
       "99673           19.885535  \n",
       "99674           21.314322  \n",
       "99675           19.717643  \n",
       "\n",
       "[8839 rows x 5 columns]"
      ]
     },
     "execution_count": 26,
     "metadata": {},
     "output_type": "execute_result"
    }
   ],
   "source": [
    "minority_synth_data"
   ]
  },
  {
   "cell_type": "code",
   "execution_count": 27,
   "id": "12bb147d",
   "metadata": {},
   "outputs": [],
   "source": [
    "minority_synth_data.dropna(axis =0, inplace = True)"
   ]
  },
  {
   "cell_type": "code",
   "execution_count": 28,
   "id": "4e6e90aa",
   "metadata": {},
   "outputs": [],
   "source": [
    "minority_synth_data['hazardous'] = 1"
   ]
  },
  {
   "cell_type": "markdown",
   "id": "5e2754a9",
   "metadata": {},
   "source": [
    "#### Selecting only the hazardous class of the real data"
   ]
  },
  {
   "cell_type": "code",
   "execution_count": 29,
   "id": "8b1fb43b",
   "metadata": {},
   "outputs": [],
   "source": [
    "minority_real_data = df.loc[ df['hazardous']==1 ].copy()"
   ]
  },
  {
   "cell_type": "code",
   "execution_count": 30,
   "id": "ba7ee144",
   "metadata": {},
   "outputs": [
    {
     "data": {
      "text/plain": [
       "(8840, 6)"
      ]
     },
     "execution_count": 30,
     "metadata": {},
     "output_type": "execute_result"
    }
   ],
   "source": [
    "minority_real_data.shape"
   ]
  },
  {
   "cell_type": "code",
   "execution_count": 31,
   "id": "1a166994",
   "metadata": {},
   "outputs": [
    {
     "name": "stdout",
     "output_type": "stream",
     "text": [
      "<class 'pandas.core.frame.DataFrame'>\n",
      "Int64Index: 8840 entries, 1 to 90818\n",
      "Data columns (total 6 columns):\n",
      " #   Column              Non-Null Count  Dtype  \n",
      "---  ------              --------------  -----  \n",
      " 0   est_diameter_min    8840 non-null   float64\n",
      " 1   est_diameter_max    8840 non-null   float64\n",
      " 2   relative_velocity   8840 non-null   float64\n",
      " 3   miss_distance       8840 non-null   float64\n",
      " 4   absolute_magnitude  8840 non-null   float64\n",
      " 5   hazardous           8840 non-null   int64  \n",
      "dtypes: float64(5), int64(1)\n",
      "memory usage: 483.4 KB\n"
     ]
    }
   ],
   "source": [
    "minority_real_data.info()"
   ]
  },
  {
   "cell_type": "code",
   "execution_count": 32,
   "id": "e7b91f21",
   "metadata": {},
   "outputs": [
    {
     "data": {
      "text/plain": [
       "(8839, 6)"
      ]
     },
     "execution_count": 32,
     "metadata": {},
     "output_type": "execute_result"
    }
   ],
   "source": [
    "minority_synth_data.shape"
   ]
  },
  {
   "cell_type": "markdown",
   "id": "d8e8f324",
   "metadata": {},
   "source": [
    "### Creating new labels for adversarial validation"
   ]
  },
  {
   "cell_type": "code",
   "execution_count": 33,
   "id": "d58f8411",
   "metadata": {},
   "outputs": [],
   "source": [
    "minority_real_data.drop(['hazardous'], axis = 1, inplace = True)\n",
    "minority_synth_data.drop(['hazardous'], axis = 1, inplace = True)"
   ]
  },
  {
   "cell_type": "code",
   "execution_count": 34,
   "id": "68951aec",
   "metadata": {},
   "outputs": [],
   "source": [
    "minority_real_data['is_synth'] = 0\n",
    "minority_synth_data['is_synth'] = 1"
   ]
  },
  {
   "cell_type": "markdown",
   "id": "4e882916",
   "metadata": {},
   "source": [
    "### Merging the real and synthetic data"
   ]
  },
  {
   "cell_type": "code",
   "execution_count": 35,
   "id": "e6fcb07f",
   "metadata": {},
   "outputs": [],
   "source": [
    "combined_df = pd.concat([minority_real_data, minority_synth_data], ignore_index=True)"
   ]
  },
  {
   "cell_type": "markdown",
   "id": "9323f142",
   "metadata": {},
   "source": [
    "### X and y for training the model"
   ]
  },
  {
   "cell_type": "code",
   "execution_count": 36,
   "id": "151ffe13",
   "metadata": {},
   "outputs": [],
   "source": [
    "X = combined_df.drop(['is_synth'], axis = 1)\n",
    "y = combined_df['is_synth']"
   ]
  },
  {
   "cell_type": "code",
   "execution_count": 37,
   "id": "f00cfc00",
   "metadata": {},
   "outputs": [
    {
     "data": {
      "text/plain": [
       "0    8840\n",
       "1    8839\n",
       "Name: is_synth, dtype: int64"
      ]
     },
     "execution_count": 37,
     "metadata": {},
     "output_type": "execute_result"
    }
   ],
   "source": [
    "y.value_counts()"
   ]
  },
  {
   "cell_type": "markdown",
   "id": "08cfd0f8",
   "metadata": {},
   "source": [
    "### Splitting train and test splits"
   ]
  },
  {
   "cell_type": "code",
   "execution_count": 38,
   "id": "24f03cba",
   "metadata": {},
   "outputs": [],
   "source": [
    "X_train, X_test, y_train, y_test = train_test_split(X, y, test_size=0.2, random_state=0, stratify=y)"
   ]
  },
  {
   "cell_type": "markdown",
   "id": "8e1a901a",
   "metadata": {},
   "source": [
    "### Scaling the data"
   ]
  },
  {
   "cell_type": "code",
   "execution_count": 39,
   "id": "e230aaf9",
   "metadata": {},
   "outputs": [],
   "source": [
    "processed_data = quan_pipeline.fit_transform(X_train)"
   ]
  },
  {
   "cell_type": "code",
   "execution_count": 40,
   "id": "053de817",
   "metadata": {},
   "outputs": [],
   "source": [
    "processed_test_data = quan_pipeline.transform(X_test)"
   ]
  },
  {
   "cell_type": "markdown",
   "id": "89d9c04d",
   "metadata": {},
   "source": [
    "### Training the model"
   ]
  },
  {
   "cell_type": "code",
   "execution_count": 41,
   "id": "f857b249",
   "metadata": {},
   "outputs": [],
   "source": [
    "model = LGBMClassifier(random_state = 0)"
   ]
  },
  {
   "cell_type": "code",
   "execution_count": 42,
   "id": "582cd489",
   "metadata": {},
   "outputs": [
    {
     "data": {
      "text/plain": [
       "LGBMClassifier(random_state=0)"
      ]
     },
     "execution_count": 42,
     "metadata": {},
     "output_type": "execute_result"
    }
   ],
   "source": [
    "model.fit(processed_data, y_train)"
   ]
  },
  {
   "cell_type": "markdown",
   "id": "ac2ad005",
   "metadata": {},
   "source": [
    "### Evaluating the model"
   ]
  },
  {
   "cell_type": "code",
   "execution_count": 43,
   "id": "873b3db3",
   "metadata": {},
   "outputs": [
    {
     "data": {
      "text/plain": [
       "0.6866515837104072"
      ]
     },
     "execution_count": 43,
     "metadata": {},
     "output_type": "execute_result"
    }
   ],
   "source": [
    "model.score(processed_test_data, y_test)"
   ]
  },
  {
   "cell_type": "code",
   "execution_count": 44,
   "id": "47855dba",
   "metadata": {},
   "outputs": [
    {
     "name": "stdout",
     "output_type": "stream",
     "text": [
      "              precision    recall  f1-score   support\n",
      "\n",
      "           0       0.68      0.71      0.69      1768\n",
      "           1       0.70      0.66      0.68      1768\n",
      "\n",
      "    accuracy                           0.69      3536\n",
      "   macro avg       0.69      0.69      0.69      3536\n",
      "weighted avg       0.69      0.69      0.69      3536\n",
      "\n"
     ]
    }
   ],
   "source": [
    "from sklearn.metrics import classification_report\n",
    "print(classification_report(y_test, model.predict(processed_test_data)))"
   ]
  },
  {
   "cell_type": "code",
   "execution_count": null,
   "id": "fb7912cf",
   "metadata": {},
   "outputs": [],
   "source": []
  }
 ],
 "metadata": {
  "kernelspec": {
   "display_name": "Python 3",
   "language": "python",
   "name": "python3"
  },
  "language_info": {
   "codemirror_mode": {
    "name": "ipython",
    "version": 3
   },
   "file_extension": ".py",
   "mimetype": "text/x-python",
   "name": "python",
   "nbconvert_exporter": "python",
   "pygments_lexer": "ipython3",
   "version": "3.8.13"
  }
 },
 "nbformat": 4,
 "nbformat_minor": 5
}
